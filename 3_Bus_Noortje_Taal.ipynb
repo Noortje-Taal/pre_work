{
 "cells": [
  {
   "cell_type": "markdown",
   "metadata": {},
   "source": [
    "# Bus\n",
    "\n",
    "This bus has a passenger entry and exit control system to monitor the number of occupants it carries and thus detect when there is too high a capacity.\n",
    "\n",
    "At each stop the entry and exit of passengers is represented by a tuple consisting of two integer numbers.\n",
    "```\n",
    "bus_stop = (in, out)\n",
    "```\n",
    "The succession of stops is represented by a list of these tuples.\n",
    "```\n",
    "stops = [(in1, out1), (in2, out2), (in3, out3), (in4, out4)]\n",
    "```\n",
    "\n",
    "## Goals:\n",
    "* lists, tuples\n",
    "* while/for loops\n",
    "* minimum, maximum, length\n",
    "* average, standard deviation\n",
    "\n",
    "## Tasks\n",
    "1. Calculate the number of stops.\n",
    "2. Assign to a variable a list whose elements are the number of passengers at each stop (in-out),\n",
    "3. Find the maximum occupation of the bus.\n",
    "4. Calculate the average occupation. And the standard deviation.\n"
   ]
  },
  {
   "cell_type": "code",
   "execution_count": 30,
   "metadata": {},
   "outputs": [],
   "source": [
    "# variables\n",
    "in1 = 22\n",
    "out1 = 1\n",
    "in2 = 3\n",
    "out2 = 2\n",
    "in3 = 5\n",
    "out3 = 1\n",
    "in4 = 4 \n",
    "out4 = 8\n",
    "\n",
    "bus_stop = ('in', 'out')\n",
    "stops = [(in1,out1), (in2,out2), (in3,out3), (in4,out4)]\n"
   ]
  },
  {
   "cell_type": "code",
   "execution_count": 31,
   "metadata": {},
   "outputs": [
    {
     "data": {
      "text/plain": [
       "4"
      ]
     },
     "execution_count": 31,
     "metadata": {},
     "output_type": "execute_result"
    }
   ],
   "source": [
    "# 1. Calculate the number of stops\n",
    "len(stops) \n"
   ]
  },
  {
   "cell_type": "code",
   "execution_count": 32,
   "metadata": {},
   "outputs": [
    {
     "name": "stdout",
     "output_type": "stream",
     "text": [
      "[22, 1, 3, 2, 5, 1, 4, 8]\n"
     ]
    }
   ],
   "source": [
    "# 2. Assign a variable a list whose elements are the number of passengers in each stop: \n",
    "# Each item depends on the previous item in the list + in - out.\n",
    "number_passengers = [] \n",
    "\n",
    "for bus_stop in stops:\n",
    "    for x in bus_stop:\n",
    "        if x == in1:\n",
    "            number_passengers.append(x)\n",
    "        elif x == out1:\n",
    "            number_passengers.append(x)\n",
    "        elif x == in2:\n",
    "            number_passengers.append(x)\n",
    "        elif x == out2:\n",
    "            number_passengers.append(x)\n",
    "        elif x == in3:\n",
    "            number_passengers.append(x)\n",
    "        elif x == out3:\n",
    "            number_passengers.append(x)\n",
    "        elif x == in4:\n",
    "            number_passengers.append(x)\n",
    "        elif x == out4:\n",
    "            number_passengers.append(x)\n",
    "print(number_passengers) \n"
   ]
  },
  {
   "cell_type": "code",
   "execution_count": 33,
   "metadata": {},
   "outputs": [
    {
     "data": {
      "text/plain": [
       "22"
      ]
     },
     "execution_count": 33,
     "metadata": {},
     "output_type": "execute_result"
    }
   ],
   "source": [
    "# 3. Find the maximum occupation of the bus.\n",
    "max(number_passengers) \n"
   ]
  },
  {
   "cell_type": "code",
   "execution_count": 34,
   "metadata": {},
   "outputs": [
    {
     "name": "stdout",
     "output_type": "stream",
     "text": [
      "5.75\n",
      "6.96419413859206\n"
     ]
    }
   ],
   "source": [
    "# 4. Calculate the average occupation. And the standard deviation.\n",
    "mean = sum(number_passengers) / len(number_passengers) \n",
    "print(mean)\n",
    "\n",
    "import statistics \n",
    "print((statistics.stdev(number_passengers)))\n"
   ]
  },
  {
   "cell_type": "code",
   "execution_count": null,
   "metadata": {},
   "outputs": [],
   "source": []
  }
 ],
 "metadata": {
  "kernelspec": {
   "display_name": "Python 3",
   "language": "python",
   "name": "python3"
  },
  "language_info": {
   "codemirror_mode": {
    "name": "ipython",
    "version": 3
   },
   "file_extension": ".py",
   "mimetype": "text/x-python",
   "name": "python",
   "nbconvert_exporter": "python",
   "pygments_lexer": "ipython3",
   "version": "3.7.3"
  }
 },
 "nbformat": 4,
 "nbformat_minor": 2
}
