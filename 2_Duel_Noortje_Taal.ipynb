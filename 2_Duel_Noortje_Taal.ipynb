{
 "cells": [
  {
   "cell_type": "markdown",
   "metadata": {},
   "source": [
    "# Duel of sorcerers\n",
    "You are witnessing an epic battle between two powerful sorcerers: Gandalf and Saruman. Each sorcerer has 10 spells of variable power in their mind and they are going to throw them one after the other. The winner of the duel will be the one who wins more of those clashes between spells. Spells are represented as a list of 10 integers whose value equals the power of the spell.\n",
    "```\n",
    "gandalf = [10, 11, 13, 30, 22, 11, 10, 33, 22, 22]\n",
    "saruman = [23, 66, 12, 43, 12, 10, 44, 23, 12, 17]\n",
    "```\n",
    "For example:\n",
    "1. The first clash is won by Saruman: 10 against 23, wins 23\n",
    "2. The second clash wins Saruman: 11 against 66, wins 66\n",
    "3. etc.\n",
    "\n",
    "\n",
    "You will create two variables, one for each sorcerer, where the sum of clashes won will be stored. Depending on which variable is greater at the end of the duel, you will show one of the following three results on the screen:\n",
    "* Gandalf wins\n",
    "* Saruman wins\n",
    "* Tie\n",
    "\n",
    "<img src=\"images/content_lightning_bolt_big.jpg\" width=\"400\">"
   ]
  },
  {
   "cell_type": "markdown",
   "metadata": {},
   "source": [
    "## Solution"
   ]
  },
  {
   "cell_type": "code",
   "execution_count": 85,
   "metadata": {},
   "outputs": [],
   "source": [
    "# Assign spell power lists to variables\n",
    "gandalf = [10, 11, 13, 30, 22, 11, 10, 33, 22, 22]\n",
    "saruman = [23, 66, 12, 43, 12, 10, 44, 23, 12, 17]\n"
   ]
  },
  {
   "cell_type": "code",
   "execution_count": 86,
   "metadata": {},
   "outputs": [],
   "source": [
    "# Assign 0 to each variable that stores the victories\n",
    "victories_gandalf = 0 \n",
    "victories_saruman = 0 \n"
   ]
  },
  {
   "cell_type": "code",
   "execution_count": 87,
   "metadata": {},
   "outputs": [
    {
     "name": "stdout",
     "output_type": "stream",
     "text": [
      "Victories Saruman: 1\n",
      "Victories Saruman: 2\n",
      "Victories Gandalf: 1\n",
      "Victories Saruman: 3\n",
      "Victories Gandalf: 2\n",
      "Victories Gandalf: 3\n",
      "Victories Saruman: 4\n",
      "Victories Gandalf: 4\n",
      "Victories Gandalf: 5\n",
      "Victories Gandalf: 6\n"
     ]
    }
   ],
   "source": [
    "# Execution of spell clashes \n",
    "for x in range(len(gandalf)):\n",
    "    if gandalf[x] > saruman[x]:\n",
    "        victories_gandalf += 1\n",
    "        print('Victories Gandalf:', victories_gandalf)\n",
    "    elif gandalf[x] < saruman[x]:\n",
    "        victories_saruman += 1\n",
    "        print('Victories Saruman:', victories_saruman)\n"
   ]
  },
  {
   "cell_type": "code",
   "execution_count": 88,
   "metadata": {},
   "outputs": [
    {
     "name": "stdout",
     "output_type": "stream",
     "text": [
      "Gandalf wins\n"
     ]
    }
   ],
   "source": [
    "# We check who has won, do not forget the possibility of a draw. Print the result based on the winner.\n",
    "if victories_gandalf > victories_saruman:\n",
    "    print('Gandalf wins') \n",
    "elif victories_gandalf < victories_saruman:\n",
    "    print('Saruman wins') \n",
    "else:\n",
    "    print('Tie') \n"
   ]
  },
  {
   "cell_type": "markdown",
   "metadata": {},
   "source": [
    "## Goals\n",
    "\n",
    "1. Treatment of lists\n",
    "2. Use of **for loop**\n",
    "3. Use of conditional **if-elif-else**\n",
    "4. Use of the functions **range(), len()**\n",
    "5. Print"
   ]
  },
  {
   "cell_type": "markdown",
   "metadata": {},
   "source": [
    "## Bonus\n",
    "\n",
    "1. Spells now have a name and there is a dictionary that relates that name to a power.\n",
    "2. A sorcerer wins if he succeeds in winning 3 spell clashes in a row.\n",
    "3. Average of each of the spell lists.\n",
    "4. Standard deviation of each of the spell lists.\n",
    "\n",
    "```\n",
    "POWER = {\n",
    "    'Fireball': 50, \n",
    "    'Lightning bolt': 40, \n",
    "    'Magic arrow': 10, \n",
    "    'Black Tentacles': 25, \n",
    "    'Contagion': 45\n",
    "}\n",
    "\n",
    "gandalf = ['Fireball', 'Lightning bolt', 'Lightning bolt', 'Magic arrow', 'Fireball', \n",
    "           'Magic arrow', 'Lightning bolt', 'Fireball', 'Fireball', 'Fireball']\n",
    "saruman = ['Contagion', 'Contagion', 'Black Tentacles', 'Fireball', 'Black Tentacles', \n",
    "           'Lightning bolt', 'Magic arrow', 'Contagion', 'Magic arrow', 'Magic arrow']\n",
    "```\n",
    "\n",
    "Good luck!"
   ]
  },
  {
   "cell_type": "code",
   "execution_count": 1,
   "metadata": {},
   "outputs": [],
   "source": [
    "# 1. Spells now have a name and there is a dictionary that relates that name to a power.\n",
    "# variables\n",
    "\n",
    "power = {\n",
    "    'Fireball': 50, \n",
    "    'Lightning bolt': 40, \n",
    "    'Magic arrow': 10, \n",
    "    'Black Tentacles': 25, \n",
    "    'Contagion': 45\n",
    "}\n",
    "\n",
    "gandalf = ['Fireball', 'Lightning bolt', 'Lightning bolt', 'Magic arrow', 'Fireball', \n",
    "           'Magic arrow', 'Lightning bolt', 'Fireball', 'Magic arrow', 'Fireball']\n",
    "saruman = ['Contagion', 'Contagion', 'Black Tentacles', 'Fireball', 'Black Tentacles', \n",
    "           'Lightning bolt', 'Magic arrow', 'Contagion', 'Magic arrow', 'Magic arrow']\n"
   ]
  },
  {
   "cell_type": "code",
   "execution_count": 2,
   "metadata": {},
   "outputs": [
    {
     "name": "stdout",
     "output_type": "stream",
     "text": [
      "gandalf power list: [50, 40, 40, 10, 50, 10, 40, 50, 10, 50]\n",
      "saruman power list: [45, 45, 25, 50, 25, 40, 10, 45, 10, 10]\n"
     ]
    }
   ],
   "source": [
    "# Assign spell power lists to variables\n",
    "gandalf_power = []\n",
    "saruman_power = [] \n",
    "\n",
    "for x in gandalf:\n",
    "    if x == 'Fireball':\n",
    "        gandalf_power.append(50)\n",
    "    elif x == 'Lightning bolt':\n",
    "        gandalf_power.append(40)\n",
    "    elif x == 'Magic arrow':\n",
    "        gandalf_power.append(10)\n",
    "    elif x == 'Black Tentacles':\n",
    "        gandalf_power.append(25)\n",
    "    elif x == 'Contagion':\n",
    "        gandalf_power.append(45)\n",
    "print('gandalf power list:', gandalf_power)\n",
    "\n",
    "for x in saruman:\n",
    "    if x == 'Fireball':\n",
    "        saruman_power.append(50)\n",
    "    elif x == 'Lightning bolt':\n",
    "        saruman_power.append(40)\n",
    "    elif x == 'Magic arrow':\n",
    "        saruman_power.append(10)\n",
    "    elif x == 'Black Tentacles':\n",
    "        saruman_power.append(25)\n",
    "    elif x == 'Contagion':\n",
    "        saruman_power.append(45)\n",
    "print('saruman power list:', saruman_power) \n"
   ]
  },
  {
   "cell_type": "code",
   "execution_count": 7,
   "metadata": {},
   "outputs": [
    {
     "name": "stdout",
     "output_type": "stream",
     "text": [
      "gandalf wins\n",
      "saruman wins\n",
      "gandalf wins\n",
      "saruman wins\n",
      "gandalf wins\n",
      "saruman wins\n",
      "gandalf wins\n",
      "gandalf wins\n",
      "tie\n",
      "gandalf wins\n",
      "[0, 1, 0, 1, 0, 1, 0, 0, 0]\n",
      "gandalf is the winner!\n"
     ]
    },
    {
     "data": {
      "text/plain": [
       "'(N.T.) I found a similar code online and this works. \\nThe only thing I do not understand is why there is +3 in the []?'"
      ]
     },
     "execution_count": 7,
     "metadata": {},
     "output_type": "execute_result"
    }
   ],
   "source": [
    "# 2. A sorcerer wins if he succeeds in winning 3 spell clashes in a row.\n",
    "# Execution of spell clashes\n",
    "winning_list = []\n",
    "\n",
    "for x in range(len(gandalf_power)):\n",
    "    if gandalf_power[x] > saruman_power[x]:\n",
    "        winning_list.append(0)\n",
    "        print('gandalf wins')\n",
    "    elif gandalf_power[x] < saruman_power[x]:\n",
    "        print('saruman wins')\n",
    "        winning_list.append(1)\n",
    "    elif gandalf_power[x] == saruman_power[x]:\n",
    "        print('tie') \n",
    "\n",
    "print(winning_list)\n",
    "        \n",
    "# check for 3 wins in a row\n",
    "gandalf_wins_tree_times = [0] * 3 \n",
    "saruman_wins_tree_times = [1] * 3 \n",
    "\n",
    "# check the winner\n",
    "for x in range(len(winning_list)):\n",
    "    if winning_list[x:x +3] == gandalf_wins_tree_times:\n",
    "        print('gandalf is the winner!')\n",
    "        break \n",
    "    elif winning_list[x:x +3] == saruman_wins_tree_times:\n",
    "        print('saruman is the winner!')\n",
    "        break \n",
    "\n",
    "'''(N.T.) I found a similar code online and this works. \n",
    "The only thing I do not understand is why there is +3 in the []?'''\n"
   ]
  },
  {
   "cell_type": "code",
   "execution_count": 4,
   "metadata": {},
   "outputs": [
    {
     "name": "stdout",
     "output_type": "stream",
     "text": [
      "Average of gandalf is: 35.0\n",
      "Average of saruman is: 30.5\n"
     ]
    }
   ],
   "source": [
    "# 3. Average of each of the spell lists.\n",
    "mean_gandalf = sum(gandalf_power) / len(gandalf_power)\n",
    "print('Average of gandalf is:', mean_gandalf) \n",
    "\n",
    "mean_saruman = sum(saruman_power) / len(saruman_power)\n",
    "print('Average of saruman is:', mean_saruman) \n"
   ]
  },
  {
   "cell_type": "code",
   "execution_count": 5,
   "metadata": {},
   "outputs": [
    {
     "name": "stdout",
     "output_type": "stream",
     "text": [
      "The stdev of gandalf spell list is: 17.795130420052185\n",
      "The stdev of saruman spell list is: 16.40629960309962\n"
     ]
    }
   ],
   "source": [
    "# 4. Standard deviation of each of the spell lists.\n",
    "import statistics \n",
    "\n",
    "print('The stdev of gandalf spell list is:', (statistics.stdev(gandalf_power)))\n",
    "print('The stdev of saruman spell list is:', (statistics.stdev(saruman_power)))\n"
   ]
  },
  {
   "cell_type": "code",
   "execution_count": null,
   "metadata": {},
   "outputs": [],
   "source": []
  }
 ],
 "metadata": {
  "kernelspec": {
   "display_name": "Python 3",
   "language": "python",
   "name": "python3"
  },
  "language_info": {
   "codemirror_mode": {
    "name": "ipython",
    "version": 3
   },
   "file_extension": ".py",
   "mimetype": "text/x-python",
   "name": "python",
   "nbconvert_exporter": "python",
   "pygments_lexer": "ipython3",
   "version": "3.7.3"
  }
 },
 "nbformat": 4,
 "nbformat_minor": 2
}
